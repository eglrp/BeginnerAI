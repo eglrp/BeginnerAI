{
 "cells": [
  {
   "cell_type": "markdown",
   "metadata": {
    "collapsed": true
   },
   "source": [
    "Cat & Dog\n",
    "===\n",
    "[Kaggle Link](https://www.kaggle.com/c/dogs-vs-cats-redux-kernels-edition)\n",
    "https://github.com/ypwhs/dogs_vs_cats/releases/tag/gap\n",
    "[参考](https://github.com/ypwhs/dogs_vs_cats)"
   ]
  },
  {
   "cell_type": "code",
   "execution_count": 3,
   "metadata": {},
   "outputs": [],
   "source": [
    "import os\n",
    "import shutil\n",
    "DATA_PATH = os.path.join(\"input\")\n",
    "train_filenames = os.listdir(os.path.join(DATA_PATH, 'train'))\n",
    "train_cat = filter(lambda x:x[:3] == 'cat', train_filenames)\n",
    "train_dog = filter(lambda x:x[:3] == 'dog', train_filenames)\n",
    "\n",
    "def rmrf_mkdir(dirname):\n",
    "    if os.path.exists(dirname):\n",
    "        shutil.rmtree(dirname)\n",
    "    os.mkdir(dirname)\n",
    "\n",
    "rmrf_mkdir(os.path.join(DATA_PATH,'train', 'cat'))\n",
    "rmrf_mkdir(os.path.join(DATA_PATH,'train', 'dog'))\n",
    "\n",
    "catList = [os.path.join(DATA_PATH, \"train\", i ) for i in train_cat]\n",
    "for file in catList:\n",
    "    shutil.move(file,\n",
    "                os.path.join(DATA_PATH,'train', 'cat'))\n"
   ]
  },
  {
   "cell_type": "code",
   "execution_count": 6,
   "metadata": {},
   "outputs": [],
   "source": [
    "dogList = [os.path.join(DATA_PATH, \"train\", i ) for i in train_dog]\n",
    "for file in dogList:\n",
    "    shutil.move(file,\n",
    "                os.path.join(DATA_PATH,'train', 'dog'))"
   ]
  },
  {
   "cell_type": "code",
   "execution_count": 8,
   "metadata": {},
   "outputs": [],
   "source": [
    "test_filenames = os.listdir(os.path.join(DATA_PATH, 'test'))\n",
    "rmrf_mkdir(os.path.join(DATA_PATH,'test', 'test'))\n",
    "list = [os.path.join(DATA_PATH, \"test\", i ) for i in test_filenames]\n",
    "for file in list:\n",
    "    shutil.move(file,\n",
    "                os.path.join(DATA_PATH,'test', 'test'))"
   ]
  },
  {
   "cell_type": "code",
   "execution_count": null,
   "metadata": {},
   "outputs": [],
   "source": []
  }
 ],
 "metadata": {
  "kernelspec": {
   "display_name": "Python 2",
   "language": "python",
   "name": "python2"
  },
  "language_info": {
   "codemirror_mode": {
    "name": "ipython",
    "version": 2
   },
   "file_extension": ".py",
   "mimetype": "text/x-python",
   "name": "python",
   "nbconvert_exporter": "python",
   "pygments_lexer": "ipython2",
   "version": "2.7.6"
  }
 },
 "nbformat": 4,
 "nbformat_minor": 0
}
